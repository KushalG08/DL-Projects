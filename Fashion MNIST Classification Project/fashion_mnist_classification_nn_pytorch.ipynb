{
 "cells": [
  {
   "cell_type": "markdown",
   "metadata": {},
   "source": [
    "# Fashion-MNIST Classification using Neural Network\n",
    "\n",
    "In this notebook, we'll build a neural network to classify Fashion-MNIST images"
   ]
  },
  {
   "cell_type": "code",
   "execution_count": 1,
   "metadata": {},
   "outputs": [
    {
     "name": "stdout",
     "output_type": "stream",
     "text": [
      "Downloading http://fashion-mnist.s3-website.eu-central-1.amazonaws.com/train-images-idx3-ubyte.gz\n",
      "Downloading http://fashion-mnist.s3-website.eu-central-1.amazonaws.com/train-images-idx3-ubyte.gz to F_MNIST_data\\FashionMNIST\\raw\\train-images-idx3-ubyte.gz\n"
     ]
    },
    {
     "data": {
      "application/vnd.jupyter.widget-view+json": {
       "model_id": "256584847ecc4440914a25596970dd2c",
       "version_major": 2,
       "version_minor": 0
      },
      "text/plain": [
       "  0%|          | 0/26421880 [00:00<?, ?it/s]"
      ]
     },
     "metadata": {},
     "output_type": "display_data"
    },
    {
     "name": "stdout",
     "output_type": "stream",
     "text": [
      "Extracting F_MNIST_data\\FashionMNIST\\raw\\train-images-idx3-ubyte.gz to F_MNIST_data\\FashionMNIST\\raw\n",
      "\n",
      "Downloading http://fashion-mnist.s3-website.eu-central-1.amazonaws.com/train-labels-idx1-ubyte.gz\n",
      "Downloading http://fashion-mnist.s3-website.eu-central-1.amazonaws.com/train-labels-idx1-ubyte.gz to F_MNIST_data\\FashionMNIST\\raw\\train-labels-idx1-ubyte.gz\n"
     ]
    },
    {
     "data": {
      "application/vnd.jupyter.widget-view+json": {
       "model_id": "360696229ffe4e54afba8cb94ad994b4",
       "version_major": 2,
       "version_minor": 0
      },
      "text/plain": [
       "  0%|          | 0/29515 [00:00<?, ?it/s]"
      ]
     },
     "metadata": {},
     "output_type": "display_data"
    },
    {
     "name": "stdout",
     "output_type": "stream",
     "text": [
      "Extracting F_MNIST_data\\FashionMNIST\\raw\\train-labels-idx1-ubyte.gz to F_MNIST_data\\FashionMNIST\\raw\n",
      "\n",
      "Downloading http://fashion-mnist.s3-website.eu-central-1.amazonaws.com/t10k-images-idx3-ubyte.gz\n",
      "Downloading http://fashion-mnist.s3-website.eu-central-1.amazonaws.com/t10k-images-idx3-ubyte.gz to F_MNIST_data\\FashionMNIST\\raw\\t10k-images-idx3-ubyte.gz\n"
     ]
    },
    {
     "data": {
      "application/vnd.jupyter.widget-view+json": {
       "model_id": "bca210e8261b4318846b68e837af2bbb",
       "version_major": 2,
       "version_minor": 0
      },
      "text/plain": [
       "  0%|          | 0/4422102 [00:00<?, ?it/s]"
      ]
     },
     "metadata": {},
     "output_type": "display_data"
    },
    {
     "name": "stdout",
     "output_type": "stream",
     "text": [
      "Extracting F_MNIST_data\\FashionMNIST\\raw\\t10k-images-idx3-ubyte.gz to F_MNIST_data\\FashionMNIST\\raw\n",
      "\n",
      "Downloading http://fashion-mnist.s3-website.eu-central-1.amazonaws.com/t10k-labels-idx1-ubyte.gz\n",
      "Downloading http://fashion-mnist.s3-website.eu-central-1.amazonaws.com/t10k-labels-idx1-ubyte.gz to F_MNIST_data\\FashionMNIST\\raw\\t10k-labels-idx1-ubyte.gz\n"
     ]
    },
    {
     "data": {
      "application/vnd.jupyter.widget-view+json": {
       "model_id": "9bebf1919a66481288b52fd6de0bab1a",
       "version_major": 2,
       "version_minor": 0
      },
      "text/plain": [
       "  0%|          | 0/5148 [00:00<?, ?it/s]"
      ]
     },
     "metadata": {},
     "output_type": "display_data"
    },
    {
     "name": "stdout",
     "output_type": "stream",
     "text": [
      "Extracting F_MNIST_data\\FashionMNIST\\raw\\t10k-labels-idx1-ubyte.gz to F_MNIST_data\\FashionMNIST\\raw\n",
      "\n"
     ]
    },
    {
     "name": "stderr",
     "output_type": "stream",
     "text": [
      "C:\\Users\\Kushal Gupta\\anaconda3\\lib\\site-packages\\torchvision\\datasets\\mnist.py:498: UserWarning: The given NumPy array is not writeable, and PyTorch does not support non-writeable tensors. This means you can write to the underlying (supposedly non-writeable) NumPy array using the tensor. You may want to copy the array to protect its data or make it writeable before converting it to a tensor. This type of warning will be suppressed for the rest of this program. (Triggered internally at  ..\\torch\\csrc\\utils\\tensor_numpy.cpp:180.)\n",
      "  return torch.from_numpy(parsed.astype(m[2], copy=False)).view(*s)\n"
     ]
    }
   ],
   "source": [
    "import numpy as np\n",
    "import torch\n",
    "import torch.nn as nn\n",
    "import torch.optim as optim\n",
    "from torchvision import datasets, transforms\n",
    "import matplotlib.pyplot as plt\n",
    "from collections import OrderedDict\n",
    "\n",
    "# Download training and testing data\n",
    "transform = transforms.Compose([transforms.ToTensor(),\n",
    "                                transforms.Normalize((0.5,), (0.5,))])\n",
    "train_ds = datasets.FashionMNIST('F_MNIST_data', download=True, train=True, transform=transform)\n",
    "test_ds = datasets.FashionMNIST('F_MNIST_data', download=True, train=False, transform=transform)"
   ]
  },
  {
   "cell_type": "code",
   "execution_count": 2,
   "metadata": {},
   "outputs": [
    {
     "data": {
      "text/plain": [
       "(12000, 48000)"
      ]
     },
     "execution_count": 2,
     "metadata": {},
     "output_type": "execute_result"
    }
   ],
   "source": [
    "# split train set into training (80%) and validation set (20%)\n",
    "train_num = len(train_ds)\n",
    "indices = list(range(train_num))\n",
    "np.random.shuffle(indices)\n",
    "split = int(np.floor(0.2 * train_num))\n",
    "val_idx, train_idx = indices[:split], indices[split:]\n",
    "len(val_idx), len(train_idx)"
   ]
  },
  {
   "cell_type": "code",
   "execution_count": 3,
   "metadata": {},
   "outputs": [],
   "source": [
    "# prepare dataloaders\n",
    "train_sampler = torch.utils.data.sampler.SubsetRandomSampler(train_idx)\n",
    "train_dl = torch.utils.data.DataLoader(train_ds, batch_size=64, sampler=train_sampler)\n",
    "val_sampler = torch.utils.data.sampler.SubsetRandomSampler(val_idx)\n",
    "val_dl = torch.utils.data.DataLoader(train_ds, batch_size=64, sampler=val_sampler)\n",
    "test_dl = torch.utils.data.DataLoader(test_ds, batch_size=64, shuffle=True)"
   ]
  },
  {
   "cell_type": "code",
   "execution_count": 4,
   "metadata": {},
   "outputs": [
    {
     "name": "stdout",
     "output_type": "stream",
     "text": [
      "torch.Size([1, 28, 28]) torch.Size([64])\n",
      "Bag\n"
     ]
    },
    {
     "data": {
      "image/png": "[encoded data removed]",
      "text/plain": [
       "<Figure size 432x288 with 1 Axes>"
      ]
     },
     "metadata": {
      "needs_background": "light"
     },
     "output_type": "display_data"
    }
   ],
   "source": [
    "image, label = next(iter(train_dl))\n",
    "print(image[0].shape, label.shape)\n",
    "desc = ['T-shirt/top','Trouser','Pullover','Dress','Coat','Sandal','Shirt','Sneaker','Bag','Ankle Boot']\n",
    "print(desc[label[0].item()])\n",
    "plt.imshow(image[0].numpy().squeeze(), cmap='gray');"
   ]
  },
  {
   "cell_type": "markdown",
   "metadata": {},
   "source": [
    "## Build the network"
   ]
  },
  {
   "cell_type": "code",
   "execution_count": 5,
   "metadata": {},
   "outputs": [],
   "source": [
    "def network():\n",
    "    model = nn.Sequential(OrderedDict([('fc1', nn.Linear(784, 128)),\n",
    "                                       ('relu1', nn.ReLU()),\n",
    "                                       ('drop1', nn.Dropout(0.25)),                                       \n",
    "                                       ('fc2', nn.Linear(128, 64)),\n",
    "                                       ('relu2', nn.ReLU()),\n",
    "                                       ('drop1', nn.Dropout(0.25)),                                       \n",
    "                                       ('output', nn.Linear(64, 10)),\n",
    "                                       ('logsoftmax', nn.LogSoftmax(dim=1))]))\n",
    "    # Use GPU if available\n",
    "    device = 'cuda' if torch.cuda.is_available() else 'cpu'\n",
    "    model = model.to(device)\n",
    "\n",
    "    # define the criterion and optimizer\n",
    "    loss_fn = nn.NLLLoss()\n",
    "    optimizer = optim.Adam(model.parameters(), lr=0.003)\n",
    "\n",
    "    return model, loss_fn, optimizer, device                      "
   ]
  },
  {
   "cell_type": "code",
   "execution_count": 6,
   "metadata": {},
   "outputs": [
    {
     "name": "stdout",
     "output_type": "stream",
     "text": [
      "Sequential(\n",
      "  (fc1): Linear(in_features=784, out_features=128, bias=True)\n",
      "  (relu1): ReLU()\n",
      "  (drop1): Dropout(p=0.25, inplace=False)\n",
      "  (fc2): Linear(in_features=128, out_features=64, bias=True)\n",
      "  (relu2): ReLU()\n",
      "  (output): Linear(in_features=64, out_features=10, bias=True)\n",
      "  (logsoftmax): LogSoftmax(dim=1)\n",
      ")\n"
     ]
    }
   ],
   "source": [
    "model, loss_fn, optimizer, device = network()\n",
    "print(model)"
   ]
  },
  {
   "cell_type": "markdown",
   "metadata": {},
   "source": [
    "## Train the network"
   ]
  },
  {
   "cell_type": "code",
   "execution_count": 7,
   "metadata": {},
   "outputs": [],
   "source": [
    "def train_validate(model, loss_fn, optimizer, trainloader, testloader, device, n_epochs=25):\n",
    "    train_losses = []\n",
    "    test_losses = []\n",
    "    for epoch in range(n_epochs):\n",
    "        # Set mode to training - Dropouts will be used here\n",
    "        model.train()\n",
    "        train_epoch_loss = 0\n",
    "        for images, labels in trainloader:\n",
    "            images, labels = images.to(device), labels.to(device)\n",
    "            # flatten the images to batch_size x 784\n",
    "            images = images.view(images.shape[0], -1)\n",
    "            # forward pass\n",
    "            outputs = model(images)\n",
    "            # backpropogation\n",
    "            train_batch_loss = loss_fn(outputs, labels)\n",
    "            optimizer.zero_grad()\n",
    "            train_batch_loss.backward()\n",
    "            # Weight updates\n",
    "            optimizer.step()\n",
    "            train_epoch_loss += train_batch_loss.item()\n",
    "        else:\n",
    "            # One epoch of training complete\n",
    "            # calculate average training epoch loss\n",
    "            train_epoch_loss = train_epoch_loss/len(trainloader)\n",
    "\n",
    "            # Now Validate on testset\n",
    "            with torch.no_grad():\n",
    "                test_epoch_acc = 0\n",
    "                test_epoch_loss = 0\n",
    "                # Set mode to eval - Dropouts will NOT be used here\n",
    "                model.eval()\n",
    "                for images, labels in testloader:\n",
    "                    images, labels = images.to(device), labels.to(device)                    \n",
    "                    # flatten images to batch_size x 784\n",
    "                    images = images.view(images.shape[0], -1)\n",
    "                    # make predictions \n",
    "                    test_outputs = model(images)\n",
    "                    # calculate test loss\n",
    "                    test_batch_loss = loss_fn(test_outputs, labels)\n",
    "                    test_epoch_loss += test_batch_loss\n",
    "                    \n",
    "                    # get probabilities, extract the class associated with highest probability\n",
    "                    proba = torch.exp(test_outputs)\n",
    "                    _, pred_labels = proba.topk(1, dim=1)\n",
    "                    \n",
    "                    # compare actual labels and predicted labels\n",
    "                    result = pred_labels == labels.view(pred_labels.shape)\n",
    "                    batch_acc = torch.mean(result.type(torch.FloatTensor))\n",
    "                    test_epoch_acc += batch_acc.item()\n",
    "                else:\n",
    "                    # One epoch of training and validation done\n",
    "                    # calculate average testing epoch loss\n",
    "                    test_epoch_loss = test_epoch_loss/len(testloader)\n",
    "                    # calculate accuracy as correct_pred/total_samples\n",
    "                    test_epoch_acc = test_epoch_acc/len(testloader)\n",
    "                    # save epoch losses for plotting\n",
    "                    train_losses.append(train_epoch_loss)\n",
    "                    test_losses.append(test_epoch_loss)\n",
    "                    # print stats for this epoch\n",
    "                    print(f'Epoch: {epoch} -> train_loss: {train_epoch_loss:.19f}, val_loss: {test_epoch_loss:.19f}, ',\n",
    "                          f'val_acc: {test_epoch_acc*100:.2f}%')\n",
    "    # Finally plot losses\n",
    "    plt.plot(train_losses, label='train-loss')\n",
    "    plt.plot(test_losses, label='val-loss')\n",
    "    plt.legend()\n",
    "    plt.show()"
   ]
  },
  {
   "cell_type": "code",
   "execution_count": 8,
   "metadata": {},
   "outputs": [
    {
     "name": "stdout",
     "output_type": "stream",
     "text": [
      "Epoch: 0 -> train_loss: 0.5820046128431956012, val_loss: 0.4161849021911621094,  val_acc: 84.60%\n",
      "Epoch: 1 -> train_loss: 0.4609627281824747458, val_loss: 0.3933480381965637207,  val_acc: 85.46%\n",
      "Epoch: 2 -> train_loss: 0.4290109670062859926, val_loss: 0.3808104693889617920,  val_acc: 86.36%\n",
      "Epoch: 3 -> train_loss: 0.4089395367503166345, val_loss: 0.3574513792991638184,  val_acc: 86.78%\n",
      "Epoch: 4 -> train_loss: 0.3974039002855618841, val_loss: 0.3504286110401153564,  val_acc: 87.54%\n",
      "Epoch: 5 -> train_loss: 0.3808735365271568307, val_loss: 0.3513041138648986816,  val_acc: 86.95%\n",
      "Epoch: 6 -> train_loss: 0.3744849762717882835, val_loss: 0.3458298742771148682,  val_acc: 87.48%\n",
      "Epoch: 7 -> train_loss: 0.3639392338792483139, val_loss: 0.3689590692520141602,  val_acc: 86.85%\n",
      "Epoch: 8 -> train_loss: 0.3602720575730005703, val_loss: 0.3381931185722351074,  val_acc: 88.10%\n",
      "Epoch: 9 -> train_loss: 0.3522783599694570000, val_loss: 0.3368195593357086182,  val_acc: 88.01%\n",
      "Epoch: 10 -> train_loss: 0.3452950304845968654, val_loss: 0.3317974507808685303,  val_acc: 87.99%\n",
      "Epoch: 11 -> train_loss: 0.3410937736233075612, val_loss: 0.3296695351600646973,  val_acc: 88.10%\n",
      "Epoch: 12 -> train_loss: 0.3367249659498532388, val_loss: 0.3306388258934020996,  val_acc: 88.14%\n",
      "Epoch: 13 -> train_loss: 0.3324477933247884098, val_loss: 0.3314307928085327148,  val_acc: 88.55%\n",
      "Epoch: 14 -> train_loss: 0.3249294434090455597, val_loss: 0.3310419321060180664,  val_acc: 87.65%\n",
      "Epoch: 15 -> train_loss: 0.3248153601984182792, val_loss: 0.3195063769817352295,  val_acc: 88.58%\n",
      "Epoch: 16 -> train_loss: 0.3206507736047108925, val_loss: 0.3304931819438934326,  val_acc: 88.32%\n",
      "Epoch: 17 -> train_loss: 0.3190858544508616279, val_loss: 0.3371344506740570068,  val_acc: 88.11%\n",
      "Epoch: 18 -> train_loss: 0.3182504490117232243, val_loss: 0.3390006124973297119,  val_acc: 88.37%\n",
      "Epoch: 19 -> train_loss: 0.3173692301313082442, val_loss: 0.3524542450904846191,  val_acc: 87.64%\n",
      "Epoch: 20 -> train_loss: 0.3138494770427545100, val_loss: 0.3247825801372528076,  val_acc: 88.60%\n",
      "Epoch: 21 -> train_loss: 0.3103037677804629246, val_loss: 0.3332910537719726562,  val_acc: 88.55%\n",
      "Epoch: 22 -> train_loss: 0.3022127579450607504, val_loss: 0.3296991884708404541,  val_acc: 87.95%\n",
      "Epoch: 23 -> train_loss: 0.3005808478891849322, val_loss: 0.3457268774509429932,  val_acc: 87.95%\n",
      "Epoch: 24 -> train_loss: 0.2996912881930668959, val_loss: 0.3297417163848876953,  val_acc: 88.69%\n"
     ]
    },
    {
     "data": {
      "image/png": "[encoded data removed]",
      "text/plain": [
       "<Figure size 432x288 with 1 Axes>"
      ]
     },
     "metadata": {
      "needs_background": "light"
     },
     "output_type": "display_data"
    }
   ],
   "source": [
    "# Train and validate\n",
    "train_validate(model, loss_fn, optimizer, train_dl, val_dl, device)"
   ]
  },
  {
   "cell_type": "markdown",
   "metadata": {},
   "source": [
    "### Predict a single image"
   ]
  },
  {
   "cell_type": "code",
   "execution_count": 9,
   "metadata": {},
   "outputs": [
    {
     "data": {
      "image/png": "[encoded data removed]",
      "text/plain": [
       "<Figure size 936x432 with 2 Axes>"
      ]
     },
     "metadata": {
      "image/png": {
       "height": 422,
       "width": 897
      },
      "needs_background": "light"
     },
     "output_type": "display_data"
    }
   ],
   "source": [
    "%matplotlib inline\n",
    "%config InlineBackend.figure_format = 'retina'\n",
    "\n",
    "# Test out the network!\n",
    "dataiter = iter(test_dl)\n",
    "images, labels = dataiter.next()\n",
    "images, labels = images.to(device), labels.to(device)\n",
    "index = 49\n",
    "img, label = images[index], labels[index]\n",
    "# Convert 2D image to 1D vector\n",
    "img = img.view(img.shape[0], -1)\n",
    "\n",
    "# Calculate the class probabilities (softmax) for img\n",
    "proba = torch.exp(model(img))\n",
    "\n",
    "# Plot the image and probabilities\n",
    "desc = ['T-shirt/top','Trouser','Pullover','Dress','Coat','Sandal','Shirt','Sneaker','Bag','Ankle Boot']\n",
    "fig, (ax1, ax2) =  plt.subplots(figsize=(13, 6), nrows=1, ncols=2)\n",
    "ax1.axis('off')\n",
    "ax1.imshow(images[index].cpu().numpy().squeeze())\n",
    "ax1.set_title(desc[label.item()])\n",
    "ax2.bar(range(10), proba.detach().cpu().numpy().squeeze())\n",
    "ax2.set_xticks(range(10))\n",
    "ax2.set_xticklabels(desc, size='small')\n",
    "ax2.set_title('Predicted Probabilities')\n",
    "plt.tight_layout()"
   ]
  },
  {
   "cell_type": "markdown",
   "metadata": {},
   "source": [
    "## Validate on test set"
   ]
  },
  {
   "cell_type": "code",
   "execution_count": 10,
   "metadata": {},
   "outputs": [
    {
     "name": "stdout",
     "output_type": "stream",
     "text": [
      "Test Accuracy: 87.68%\n"
     ]
    }
   ],
   "source": [
    "# Validate\n",
    "with torch.no_grad():\n",
    "    batch_acc = []\n",
    "    model.eval()\n",
    "    for images, labels in test_dl:\n",
    "        images, labels = images.to(device), labels.to(device)\n",
    "        # flatten images to batch_size x 784\n",
    "        images = images.view(images.shape[0], -1)\n",
    "        # make predictions and get probabilities\n",
    "        proba = torch.exp(model(images))\n",
    "        # extract the class associted with highest probability\n",
    "        _, pred_labels = proba.topk(1, dim=1)\n",
    "        # compare actual labels and predicted labels\n",
    "        result = pred_labels == labels.view(pred_labels.shape)\n",
    "        acc = torch.mean(result.type(torch.FloatTensor))\n",
    "        batch_acc.append(acc.item())\n",
    "    else:\n",
    "        print(f'Test Accuracy: {torch.mean(torch.tensor(batch_acc))*100:.2f}%')"
   ]
  },
  {
   "cell_type": "markdown",
   "metadata": {},
   "source": [
    "## More powerful model"
   ]
  },
  {
   "cell_type": "code",
   "execution_count": 11,
   "metadata": {},
   "outputs": [],
   "source": [
    "# Redefine network with dropout layers in between\n",
    "def network():\n",
    "    model = nn.Sequential(OrderedDict([('fc1', nn.Linear(784, 392)),\n",
    "                                       ('relu1', nn.ReLU()),\n",
    "                                       ('drop1', nn.Dropout(0.25)),\n",
    "                                       ('fc12', nn.Linear(392, 196)),\n",
    "                                       ('relu2', nn.ReLU()),\n",
    "                                       ('drop2', nn.Dropout(0.25)),\n",
    "                                       ('fc3', nn.Linear(196, 98)),\n",
    "                                       ('relu3', nn.ReLU()),\n",
    "                                       ('drop3', nn.Dropout(0.25)),                                       \n",
    "                                       ('fc4', nn.Linear(98, 49)),\n",
    "                                       ('relu4', nn.ReLU()),\n",
    "                                       ('output', nn.Linear(49, 10)),\n",
    "                                       ('logsoftmax', nn.LogSoftmax(dim=1))]))\n",
    "    \n",
    "    # Use GPU if available\n",
    "    device = 'cuda' if torch.cuda.is_available() else 'cpu'\n",
    "    model = model.to(device)\n",
    "\n",
    "    # define the criterion and optimizer\n",
    "    loss_fn = nn.NLLLoss()\n",
    "    optimizer = optim.Adam(model.parameters(), lr=0.0007)\n",
    "\n",
    "    return model, loss_fn, optimizer, device       "
   ]
  },
  {
   "cell_type": "code",
   "execution_count": 12,
   "metadata": {},
   "outputs": [
    {
     "data": {
      "text/plain": [
       "Sequential(\n",
       "  (fc1): Linear(in_features=784, out_features=392, bias=True)\n",
       "  (relu1): ReLU()\n",
       "  (drop1): Dropout(p=0.25, inplace=False)\n",
       "  (fc12): Linear(in_features=392, out_features=196, bias=True)\n",
       "  (relu2): ReLU()\n",
       "  (drop2): Dropout(p=0.25, inplace=False)\n",
       "  (fc3): Linear(in_features=196, out_features=98, bias=True)\n",
       "  (relu3): ReLU()\n",
       "  (drop3): Dropout(p=0.25, inplace=False)\n",
       "  (fc4): Linear(in_features=98, out_features=49, bias=True)\n",
       "  (relu4): ReLU()\n",
       "  (output): Linear(in_features=49, out_features=10, bias=True)\n",
       "  (logsoftmax): LogSoftmax(dim=1)\n",
       ")"
      ]
     },
     "execution_count": 12,
     "metadata": {},
     "output_type": "execute_result"
    }
   ],
   "source": [
    "model, loss_fn, optimizer, device = network()\n",
    "model"
   ]
  },
  {
   "cell_type": "code",
   "execution_count": 13,
   "metadata": {},
   "outputs": [
    {
     "name": "stdout",
     "output_type": "stream",
     "text": [
      "Epoch: 0 -> train_loss: 0.6722108484506607029, val_loss: 0.4491010308265686035,  val_acc: 82.74%\n",
      "Epoch: 1 -> train_loss: 0.4634778929352760257, val_loss: 0.3772047758102416992,  val_acc: 86.14%\n",
      "Epoch: 2 -> train_loss: 0.4171390691598256262, val_loss: 0.3936618566513061523,  val_acc: 85.47%\n",
      "Epoch: 3 -> train_loss: 0.3925043706099192176, val_loss: 0.3486233651638031006,  val_acc: 87.63%\n",
      "Epoch: 4 -> train_loss: 0.3712360138694445477, val_loss: 0.3383010029792785645,  val_acc: 87.87%\n",
      "Epoch: 5 -> train_loss: 0.3540800571640332350, val_loss: 0.3206551671028137207,  val_acc: 88.44%\n",
      "Epoch: 6 -> train_loss: 0.3440062716106573881, val_loss: 0.3175850808620452881,  val_acc: 88.67%\n",
      "Epoch: 7 -> train_loss: 0.3298225763340791317, val_loss: 0.3278072476387023926,  val_acc: 88.32%\n",
      "Epoch: 8 -> train_loss: 0.3191555908620357651, val_loss: 0.3260203897953033447,  val_acc: 88.54%\n",
      "Epoch: 9 -> train_loss: 0.3139979259272416279, val_loss: 0.3184978067874908447,  val_acc: 88.92%\n",
      "Epoch: 10 -> train_loss: 0.3036111173331737523, val_loss: 0.3139036297798156738,  val_acc: 89.04%\n",
      "Epoch: 11 -> train_loss: 0.2941199940641721078, val_loss: 0.3104389607906341553,  val_acc: 89.13%\n",
      "Epoch: 12 -> train_loss: 0.2918689980705579390, val_loss: 0.3035447299480438232,  val_acc: 89.39%\n",
      "Epoch: 13 -> train_loss: 0.2831989902059237063, val_loss: 0.3014743924140930176,  val_acc: 89.17%\n",
      "Epoch: 14 -> train_loss: 0.2790738928020000675, val_loss: 0.3169613778591156006,  val_acc: 88.60%\n",
      "Epoch: 15 -> train_loss: 0.2755716178218523549, val_loss: 0.2977825701236724854,  val_acc: 89.57%\n",
      "Epoch: 16 -> train_loss: 0.2636287015279134005, val_loss: 0.3065706491470336914,  val_acc: 89.42%\n",
      "Epoch: 17 -> train_loss: 0.2633225894769032904, val_loss: 0.3021140694618225098,  val_acc: 89.77%\n",
      "Epoch: 18 -> train_loss: 0.2588147721936305268, val_loss: 0.3042859435081481934,  val_acc: 89.15%\n",
      "Epoch: 19 -> train_loss: 0.2550887158811092625, val_loss: 0.2989240288734436035,  val_acc: 89.76%\n",
      "Epoch: 20 -> train_loss: 0.2464823014338811125, val_loss: 0.3005456626415252686,  val_acc: 89.84%\n",
      "Epoch: 21 -> train_loss: 0.2447312127848466357, val_loss: 0.3067142367362976074,  val_acc: 89.60%\n",
      "Epoch: 22 -> train_loss: 0.2400031385223070912, val_loss: 0.3041906654834747314,  val_acc: 89.45%\n",
      "Epoch: 23 -> train_loss: 0.2351681134849786803, val_loss: 0.2990351617336273193,  val_acc: 89.92%\n",
      "Epoch: 24 -> train_loss: 0.2319054315139849887, val_loss: 0.3078336715698242188,  val_acc: 89.90%\n",
      "Epoch: 25 -> train_loss: 0.2284384021411339505, val_loss: 0.3014802038669586182,  val_acc: 89.44%\n",
      "Epoch: 26 -> train_loss: 0.2246469232439994856, val_loss: 0.2994275093078613281,  val_acc: 90.15%\n",
      "Epoch: 27 -> train_loss: 0.2234746333658695350, val_loss: 0.3037487566471099854,  val_acc: 89.63%\n",
      "Epoch: 28 -> train_loss: 0.2175256675183772914, val_loss: 0.3061659932136535645,  val_acc: 90.07%\n",
      "Epoch: 29 -> train_loss: 0.2187462772876024308, val_loss: 0.2945981025695800781,  val_acc: 90.13%\n",
      "Epoch: 30 -> train_loss: 0.2112338943332433827, val_loss: 0.3051328063011169434,  val_acc: 90.01%\n",
      "Epoch: 31 -> train_loss: 0.2095508428364992182, val_loss: 0.3150895833969116211,  val_acc: 89.75%\n",
      "Epoch: 32 -> train_loss: 0.2074856148908535702, val_loss: 0.3016926348209381104,  val_acc: 90.23%\n",
      "Epoch: 33 -> train_loss: 0.2073508629798889169, val_loss: 0.2997615933418273926,  val_acc: 90.08%\n",
      "Epoch: 34 -> train_loss: 0.2015710917909940003, val_loss: 0.3065292239189147949,  val_acc: 89.92%\n"
     ]
    },
    {
     "data": {
      "image/png": "[encoded data removed]",
      "text/plain": [
       "<Figure size 432x288 with 1 Axes>"
      ]
     },
     "metadata": {
      "image/png": {
       "height": 248,
       "width": 372
      },
      "needs_background": "light"
     },
     "output_type": "display_data"
    }
   ],
   "source": [
    "# Train and validate again with new architecture\n",
    "train_validate(model, loss_fn, optimizer, train_dl, val_dl, device, n_epochs=35)"
   ]
  },
  {
   "cell_type": "markdown",
   "metadata": {},
   "source": [
    "## Validate on test set"
   ]
  },
  {
   "cell_type": "code",
   "execution_count": 14,
   "metadata": {},
   "outputs": [
    {
     "name": "stdout",
     "output_type": "stream",
     "text": [
      "Accuracy: 89.11%\n"
     ]
    }
   ],
   "source": [
    "# Validate\n",
    "with torch.no_grad():\n",
    "    model.eval()\n",
    "    batch_acc = []\n",
    "    for images, labels in test_dl:\n",
    "        images, labels = images.to(device), labels.to(device)\n",
    "        # flatten images to batch_size x 784\n",
    "        images = images.view(images.shape[0], -1)\n",
    "        # make predictions and get probabilities\n",
    "        proba = torch.exp(model(images))\n",
    "        # extract the class associted with highest probability\n",
    "        _, pred_labels = proba.topk(1, dim=1)\n",
    "        # compare actual labels and predicted labels\n",
    "        result = pred_labels == labels.view(pred_labels.shape)\n",
    "        acc = torch.mean(result.type(torch.FloatTensor))\n",
    "        batch_acc.append(acc.item())\n",
    "    else:\n",
    "        print(f'Accuracy: {torch.mean(torch.tensor(batch_acc))*100:.2f}%')"
   ]
  }
 ],
 "metadata": {
  "kernelspec": {
   "display_name": "Python 3",
   "language": "python",
   "name": "python3"
  },
  "language_info": {
   "codemirror_mode": {
    "name": "ipython",
    "version": 3
   },
   "file_extension": ".py",
   "mimetype": "text/x-python",
   "name": "python",
   "nbconvert_exporter": "python",
   "pygments_lexer": "ipython3",
   "version": "3.8.8"
  }
 },
 "nbformat": 4,
 "nbformat_minor": 4
}
